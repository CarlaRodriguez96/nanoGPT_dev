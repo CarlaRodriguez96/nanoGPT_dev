{
 "cells": [
  {
   "cell_type": "markdown",
   "id": "6bf8726a-3d04-4f37-b081-0f19fef63f3f",
   "metadata": {},
   "source": [
    "## Decoder-only transformer:\n",
    "\n",
    "Original v2.py reproduced (pytorch) following *\"Andrej Karpathy - Let's build GPT: from scratch, in code, spelled out.\"*\n",
    "\n",
    "**This one here is intended to run using JAX** "
   ]
  },
  {
   "cell_type": "code",
   "execution_count": null,
   "id": "42833899-0d9a-4296-9507-0fbfcb6b02a1",
   "metadata": {},
   "outputs": [],
   "source": []
  }
 ],
 "metadata": {
  "kernelspec": {
   "display_name": "nanogpt",
   "language": "python",
   "name": "nanogpt"
  },
  "language_info": {
   "codemirror_mode": {
    "name": "ipython",
    "version": 3
   },
   "file_extension": ".py",
   "mimetype": "text/x-python",
   "name": "python",
   "nbconvert_exporter": "python",
   "pygments_lexer": "ipython3",
   "version": "3.10.14"
  }
 },
 "nbformat": 4,
 "nbformat_minor": 5
}
