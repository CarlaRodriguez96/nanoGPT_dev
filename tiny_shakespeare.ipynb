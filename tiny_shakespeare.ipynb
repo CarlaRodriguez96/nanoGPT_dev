{
 "cells": [
  {
   "cell_type": "code",
   "execution_count": 1,
   "id": "b55c86cc-0964-4c5e-ac3b-6e8c372fb08e",
   "metadata": {},
   "outputs": [],
   "source": [
    "import os\n",
    "import requests"
   ]
  },
  {
   "cell_type": "code",
   "execution_count": 4,
   "id": "d94ad114-3829-41bc-b637-ab6fe74edc8e",
   "metadata": {},
   "outputs": [],
   "source": [
    "# Only once -- download the tiny shakespeare dataset:\n",
    "\n",
    "# input_file_path = os.path.join(os.getcwd(), 'input.txt')\n",
    "# if not os.path.exists(input_file_path):\n",
    "#     data_url = 'https://raw.githubusercontent.com/karpathy/char-rnn/master/data/tinyshakespeare/input.txt'\n",
    "#     with open(input_file_path, 'w', encoding='utf-8') as f:\n",
    "#         f.write(requests.get(data_url).text)"
   ]
  },
  {
   "cell_type": "code",
   "execution_count": 5,
   "id": "8a5f9dd7-9e12-4bc3-aea0-95150fcbf67e",
   "metadata": {},
   "outputs": [],
   "source": [
    "# Read and inspect the data:\n",
    "with open('input.txt', 'r', encoding = 'utf-8') as f:\n",
    "    text = f.read()"
   ]
  },
  {
   "cell_type": "code",
   "execution_count": 6,
   "id": "c4957f8f-97b1-43a7-a4f0-d0722691fe05",
   "metadata": {},
   "outputs": [
    {
     "name": "stdout",
     "output_type": "stream",
     "text": [
      "Length of the dataset in characters: 1115394\n"
     ]
    }
   ],
   "source": [
    "print('Length of the dataset in characters:', len(text))\n",
    "# print(text[:1000])"
   ]
  },
  {
   "cell_type": "code",
   "execution_count": 17,
   "id": "90e201c1-2c99-47aa-a880-c4e32937d6a7",
   "metadata": {
    "tags": []
   },
   "outputs": [
    {
     "name": "stdout",
     "output_type": "stream",
     "text": [
      "\n",
      " !$&',-.3:;?ABCDEFGHIJKLMNOPQRSTUVWXYZabcdefghijklmnopqrstuvwxyz\n",
      "Vocabulary size: 65\n"
     ]
    }
   ],
   "source": [
    "# Character list:\n",
    "chars = sorted(list(set(text))) # Sort a list of characters that appear in the text: [, . & .' etc]\n",
    "vocab_size = len(chars)\n",
    "\n",
    "print(''.join(chars))\n",
    "print('Vocabulary size:', vocab_size)"
   ]
  },
  {
   "cell_type": "code",
   "execution_count": 19,
   "id": "e40242c7-b4f0-4c3b-8bce-942577dba50c",
   "metadata": {},
   "outputs": [],
   "source": [
    "# Tokenize: convert raw text (string) to sequence of integers according to some vocabulary of possible elements. \n",
    "# Here we translate individual characters (e.g., &) into integers. \n",
    "\n",
    "# Mapping (look-up table) from characters to integers: iterate over all characters and c\n",
    "stoi = { ch:i for i,ch in enumerate(chars)}\n",
    "itos = { i:ch for i,ch in enumerate(chars)}\n",
    "\n",
    "# Encode \n",
    "encode = lambda s: [stoi[c] for c in s]\n",
    "decode = lambda l: ''.join([itos[i] for i in l])"
   ]
  },
  {
   "cell_type": "code",
   "execution_count": 20,
   "id": "3814c9f1-8241-45f7-b44e-897b0f55fa7d",
   "metadata": {},
   "outputs": [
    {
     "name": "stdout",
     "output_type": "stream",
     "text": [
      "[46, 47, 47, 1, 58, 46, 43, 56, 43]\n",
      "hii there\n"
     ]
    }
   ],
   "source": [
    "print(encode(\"hii there\"))\n",
    "print(decode(encode(\"hii there\")))"
   ]
  },
  {
   "cell_type": "code",
   "execution_count": null,
   "id": "32966f9a-f7ce-4b86-adb3-f3cdda570c4d",
   "metadata": {},
   "outputs": [],
   "source": []
  }
 ],
 "metadata": {
  "kernelspec": {
   "display_name": "nanogpt",
   "language": "python",
   "name": "nanogpt"
  },
  "language_info": {
   "codemirror_mode": {
    "name": "ipython",
    "version": 3
   },
   "file_extension": ".py",
   "mimetype": "text/x-python",
   "name": "python",
   "nbconvert_exporter": "python",
   "pygments_lexer": "ipython3",
   "version": "3.10.14"
  }
 },
 "nbformat": 4,
 "nbformat_minor": 5
}
