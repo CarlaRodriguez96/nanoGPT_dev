{
 "cells": [
  {
   "cell_type": "code",
   "execution_count": 1,
   "id": "b55c86cc-0964-4c5e-ac3b-6e8c372fb08e",
   "metadata": {},
   "outputs": [],
   "source": [
    "import os\n",
    "import requests"
   ]
  },
  {
   "cell_type": "code",
   "execution_count": 2,
   "id": "d94ad114-3829-41bc-b637-ab6fe74edc8e",
   "metadata": {},
   "outputs": [],
   "source": [
    "# Only once -- download the tiny shakespeare dataset:\n",
    "\n",
    "# input_file_path = os.path.join(os.getcwd(), 'input.txt')\n",
    "# if not os.path.exists(input_file_path):\n",
    "#     data_url = 'https://raw.githubusercontent.com/karpathy/char-rnn/master/data/tinyshakespeare/input.txt'\n",
    "#     with open(input_file_path, 'w', encoding='utf-8') as f:\n",
    "#         f.write(requests.get(data_url).text)"
   ]
  },
  {
   "cell_type": "code",
   "execution_count": 3,
   "id": "8a5f9dd7-9e12-4bc3-aea0-95150fcbf67e",
   "metadata": {},
   "outputs": [],
   "source": [
    "# Read and inspect the data:\n",
    "with open('input.txt', 'r', encoding = 'utf-8') as f:\n",
    "    text = f.read()"
   ]
  },
  {
   "cell_type": "code",
   "execution_count": 4,
   "id": "c4957f8f-97b1-43a7-a4f0-d0722691fe05",
   "metadata": {},
   "outputs": [
    {
     "name": "stdout",
     "output_type": "stream",
     "text": [
      "Length of the dataset in characters: 1115394\n"
     ]
    }
   ],
   "source": [
    "print('Length of the dataset in characters:', len(text))\n",
    "# print(text[:1000])"
   ]
  },
  {
   "cell_type": "code",
   "execution_count": 5,
   "id": "90e201c1-2c99-47aa-a880-c4e32937d6a7",
   "metadata": {
    "tags": []
   },
   "outputs": [
    {
     "name": "stdout",
     "output_type": "stream",
     "text": [
      "\n",
      " !$&',-.3:;?ABCDEFGHIJKLMNOPQRSTUVWXYZabcdefghijklmnopqrstuvwxyz\n",
      "Vocabulary size: 65\n"
     ]
    }
   ],
   "source": [
    "# Character list:\n",
    "chars = sorted(list(set(text))) # Sort a list of characters that appear in the text: [, . & .' etc]\n",
    "vocab_size = len(chars)\n",
    "\n",
    "print(''.join(chars))\n",
    "print('Vocabulary size:', vocab_size)"
   ]
  },
  {
   "cell_type": "markdown",
   "id": "2e59f6ce-41e8-413f-882e-f9f61241faf9",
   "metadata": {
    "tags": []
   },
   "source": [
    "## Tokenize:"
   ]
  },
  {
   "cell_type": "code",
   "execution_count": 10,
   "id": "e40242c7-b4f0-4c3b-8bce-942577dba50c",
   "metadata": {},
   "outputs": [],
   "source": [
    "# Tokenize: convert raw text (string) to sequence of integers according to some vocabulary of possible elements. \n",
    "# Here we translate individual characters (e.g., &) into integers. \n",
    "\n",
    "# E.g., Google's using Sentencepiece (not coding whole words nor individual characters - it's sub-word unit level) \n",
    "# OpenAI (tiktoken) - example later -. \n",
    "\n",
    "# Mapping (look-up table) from characters to integers:\n",
    "# character : integer and viceversa\n",
    "stoi = { ch:i for i,ch in enumerate(chars)}\n",
    "itos = { i:ch for i,ch in enumerate(chars)}\n",
    "\n",
    "# Encode \n",
    "encode = lambda s: [stoi[c] for c in s]\n",
    "decode = lambda l: ''.join([itos[i] for i in l])"
   ]
  },
  {
   "cell_type": "code",
   "execution_count": 11,
   "id": "3814c9f1-8241-45f7-b44e-897b0f55fa7d",
   "metadata": {},
   "outputs": [
    {
     "name": "stdout",
     "output_type": "stream",
     "text": [
      "[46, 47, 47, 1, 58, 46, 43, 56, 43]\n",
      "hii there\n"
     ]
    }
   ],
   "source": [
    "print(encode(\"hii there\"))\n",
    "print(decode(encode(\"hii there\")))"
   ]
  },
  {
   "cell_type": "markdown",
   "id": "48740b8c-113c-463b-9029-b04f42321de3",
   "metadata": {
    "tags": []
   },
   "source": [
    "#### Example of usage of sub-word encodings (e.g., tiktoken)"
   ]
  },
  {
   "cell_type": "code",
   "execution_count": 24,
   "id": "32966f9a-f7ce-4b86-adb3-f3cdda570c4d",
   "metadata": {},
   "outputs": [
    {
     "name": "stdout",
     "output_type": "stream",
     "text": [
      "Number of tokens in GPT2 50257\n",
      "Sentence: \"hii there\"\n",
      "Encoding: [71, 4178, 612]\n",
      "Decoding: hii there\n"
     ]
    }
   ],
   "source": [
    "import tiktoken\n",
    "enc = tiktoken.get_encoding('gpt2')\n",
    "# Vocabulary of GPT2\n",
    "print('Number of tokens in GPT2', enc.n_vocab)\n",
    "\n",
    "# Encode - list of integers with values between 0 and 50256 \n",
    "print('Sentence: \"hii there\"')\n",
    "print('Encoding:', enc.encode(\"hii there\"))\n",
    "# Decode:\n",
    "print('Decoding:', enc.decode(enc.encode(\"hii there\")))"
   ]
  },
  {
   "cell_type": "markdown",
   "id": "8770ec33-c5b5-4bc9-945b-8182575323b0",
   "metadata": {
    "tags": []
   },
   "source": [
    "### Encode the entire tiny shakespeare dataset: "
   ]
  },
  {
   "cell_type": "code",
   "execution_count": 27,
   "id": "2957573e-840c-422f-84e7-e26c0e4982e0",
   "metadata": {
    "collapsed": true,
    "jupyter": {
     "outputs_hidden": true
    },
    "tags": []
   },
   "outputs": [
    {
     "name": "stdout",
     "output_type": "stream",
     "text": [
      "torch.Size([1115394]) torch.int64\n",
      "tensor([18, 47, 56, 57, 58,  1, 15, 47, 58, 47, 64, 43, 52, 10,  0, 14, 43, 44,\n",
      "        53, 56, 43,  1, 61, 43,  1, 54, 56, 53, 41, 43, 43, 42,  1, 39, 52, 63,\n",
      "         1, 44, 59, 56, 58, 46, 43, 56,  6,  1, 46, 43, 39, 56,  1, 51, 43,  1,\n",
      "        57, 54, 43, 39, 49,  8,  0,  0, 13, 50, 50, 10,  0, 31, 54, 43, 39, 49,\n",
      "         6,  1, 57, 54, 43, 39, 49,  8,  0,  0, 18, 47, 56, 57, 58,  1, 15, 47,\n",
      "        58, 47, 64, 43, 52, 10,  0, 37, 53, 59,  1, 39, 56, 43,  1, 39, 50, 50,\n",
      "         1, 56, 43, 57, 53, 50, 60, 43, 42,  1, 56, 39, 58, 46, 43, 56,  1, 58,\n",
      "        53,  1, 42, 47, 43,  1, 58, 46, 39, 52,  1, 58, 53,  1, 44, 39, 51, 47,\n",
      "        57, 46, 12,  0,  0, 13, 50, 50, 10,  0, 30, 43, 57, 53, 50, 60, 43, 42,\n",
      "         8,  1, 56, 43, 57, 53, 50, 60, 43, 42,  8,  0,  0, 18, 47, 56, 57, 58,\n",
      "         1, 15, 47, 58, 47, 64, 43, 52, 10,  0, 18, 47, 56, 57, 58,  6,  1, 63,\n",
      "        53, 59,  1, 49, 52, 53, 61,  1, 15, 39, 47, 59, 57,  1, 25, 39, 56, 41,\n",
      "        47, 59, 57,  1, 47, 57,  1, 41, 46, 47, 43, 44,  1, 43, 52, 43, 51, 63,\n",
      "         1, 58, 53,  1, 58, 46, 43,  1, 54, 43, 53, 54, 50, 43,  8,  0,  0, 13,\n",
      "        50, 50, 10,  0, 35, 43,  1, 49, 52, 53, 61,  5, 58,  6,  1, 61, 43,  1,\n",
      "        49, 52, 53, 61,  5, 58,  8,  0,  0, 18, 47, 56, 57, 58,  1, 15, 47, 58,\n",
      "        47, 64, 43, 52, 10,  0, 24, 43, 58,  1, 59, 57,  1, 49, 47, 50, 50,  1,\n",
      "        46, 47, 51,  6,  1, 39, 52, 42,  1, 61, 43,  5, 50, 50,  1, 46, 39, 60,\n",
      "        43,  1, 41, 53, 56, 52,  1, 39, 58,  1, 53, 59, 56,  1, 53, 61, 52,  1,\n",
      "        54, 56, 47, 41, 43,  8,  0, 21, 57,  5, 58,  1, 39,  1, 60, 43, 56, 42,\n",
      "        47, 41, 58, 12,  0,  0, 13, 50, 50, 10,  0, 26, 53,  1, 51, 53, 56, 43,\n",
      "         1, 58, 39, 50, 49, 47, 52, 45,  1, 53, 52,  5, 58, 11,  1, 50, 43, 58,\n",
      "         1, 47, 58,  1, 40, 43,  1, 42, 53, 52, 43, 10,  1, 39, 61, 39, 63,  6,\n",
      "         1, 39, 61, 39, 63,  2,  0,  0, 31, 43, 41, 53, 52, 42,  1, 15, 47, 58,\n",
      "        47, 64, 43, 52, 10,  0, 27, 52, 43,  1, 61, 53, 56, 42,  6,  1, 45, 53,\n",
      "        53, 42,  1, 41, 47, 58, 47, 64, 43, 52, 57,  8,  0,  0, 18, 47, 56, 57,\n",
      "        58,  1, 15, 47, 58, 47, 64, 43, 52, 10,  0, 35, 43,  1, 39, 56, 43,  1,\n",
      "        39, 41, 41, 53, 59, 52, 58, 43, 42,  1, 54, 53, 53, 56,  1, 41, 47, 58,\n",
      "        47, 64, 43, 52, 57,  6,  1, 58, 46, 43,  1, 54, 39, 58, 56, 47, 41, 47,\n",
      "        39, 52, 57,  1, 45, 53, 53, 42,  8,  0, 35, 46, 39, 58,  1, 39, 59, 58,\n",
      "        46, 53, 56, 47, 58, 63,  1, 57, 59, 56, 44, 43, 47, 58, 57,  1, 53, 52,\n",
      "         1, 61, 53, 59, 50, 42,  1, 56, 43, 50, 47, 43, 60, 43,  1, 59, 57, 10,\n",
      "         1, 47, 44,  1, 58, 46, 43, 63,  0, 61, 53, 59, 50, 42,  1, 63, 47, 43,\n",
      "        50, 42,  1, 59, 57,  1, 40, 59, 58,  1, 58, 46, 43,  1, 57, 59, 54, 43,\n",
      "        56, 44, 50, 59, 47, 58, 63,  6,  1, 61, 46, 47, 50, 43,  1, 47, 58,  1,\n",
      "        61, 43, 56, 43,  0, 61, 46, 53, 50, 43, 57, 53, 51, 43,  6,  1, 61, 43,\n",
      "         1, 51, 47, 45, 46, 58,  1, 45, 59, 43, 57, 57,  1, 58, 46, 43, 63,  1,\n",
      "        56, 43, 50, 47, 43, 60, 43, 42,  1, 59, 57,  1, 46, 59, 51, 39, 52, 43,\n",
      "        50, 63, 11,  0, 40, 59, 58,  1, 58, 46, 43, 63,  1, 58, 46, 47, 52, 49,\n",
      "         1, 61, 43,  1, 39, 56, 43,  1, 58, 53, 53,  1, 42, 43, 39, 56, 10,  1,\n",
      "        58, 46, 43,  1, 50, 43, 39, 52, 52, 43, 57, 57,  1, 58, 46, 39, 58,  0,\n",
      "        39, 44, 44, 50, 47, 41, 58, 57,  1, 59, 57,  6,  1, 58, 46, 43,  1, 53,\n",
      "        40, 48, 43, 41, 58,  1, 53, 44,  1, 53, 59, 56,  1, 51, 47, 57, 43, 56,\n",
      "        63,  6,  1, 47, 57,  1, 39, 57,  1, 39, 52,  0, 47, 52, 60, 43, 52, 58,\n",
      "        53, 56, 63,  1, 58, 53,  1, 54, 39, 56, 58, 47, 41, 59, 50, 39, 56, 47,\n",
      "        57, 43,  1, 58, 46, 43, 47, 56,  1, 39, 40, 59, 52, 42, 39, 52, 41, 43,\n",
      "        11,  1, 53, 59, 56,  0, 57, 59, 44, 44, 43, 56, 39, 52, 41, 43,  1, 47,\n",
      "        57,  1, 39,  1, 45, 39, 47, 52,  1, 58, 53,  1, 58, 46, 43, 51,  1, 24,\n",
      "        43, 58,  1, 59, 57,  1, 56, 43, 60, 43, 52, 45, 43,  1, 58, 46, 47, 57,\n",
      "         1, 61, 47, 58, 46,  0, 53, 59, 56,  1, 54, 47, 49, 43, 57,  6,  1, 43,\n",
      "        56, 43,  1, 61, 43,  1, 40, 43, 41, 53, 51, 43,  1, 56, 39, 49, 43, 57,\n",
      "        10,  1, 44, 53, 56,  1, 58, 46, 43,  1, 45, 53, 42, 57,  1, 49, 52, 53,\n",
      "        61,  1, 21,  0, 57, 54, 43, 39, 49,  1, 58, 46, 47, 57,  1, 47, 52,  1,\n",
      "        46, 59, 52, 45, 43, 56,  1, 44, 53, 56,  1, 40, 56, 43, 39, 42,  6,  1,\n",
      "        52, 53, 58,  1, 47, 52,  1, 58, 46, 47, 56, 57, 58,  1, 44, 53, 56,  1,\n",
      "        56, 43, 60, 43, 52, 45, 43,  8,  0,  0])\n"
     ]
    }
   ],
   "source": [
    "import torch\n",
    "# Take all the text in tiny shakespeare, encode it and wrap it into a torch.tensor\n",
    "data = torch.tensor(encode(text), dtype=torch.long)\n",
    "# Print the shape and dtype of the tensor\n",
    "print(data.shape, data.dtype)\n",
    "# Take a look at the first 1k characters\n",
    "print(data[:1000])"
   ]
  },
  {
   "cell_type": "markdown",
   "id": "3e9f36b1-69bd-41e0-aa7e-6d5353de845f",
   "metadata": {
    "tags": []
   },
   "source": [
    "### Split data into train and validation sets"
   ]
  },
  {
   "cell_type": "code",
   "execution_count": 28,
   "id": "65e2e5f4-0b1e-4196-a4c4-fb0e519dfd1e",
   "metadata": {},
   "outputs": [],
   "source": [
    "# First 90% will be train:\n",
    "n = int(0.9*len(data)) \n",
    "train_data = data[:n]\n",
    "val_data = data[n:]"
   ]
  },
  {
   "cell_type": "code",
   "execution_count": 39,
   "id": "5f9a9138-a065-44dd-be9e-b0bbf3643155",
   "metadata": {},
   "outputs": [
    {
     "data": {
      "text/plain": [
       "tensor([18, 47, 56, 57, 58,  1, 15, 47, 58])"
      ]
     },
     "execution_count": 39,
     "metadata": {},
     "output_type": "execute_result"
    }
   ],
   "source": [
    "block_size = 8 # i.e., context_lenght \n",
    "# First 9 (block_size + 1) characters in the training data. \n",
    "train_data[:block_size+1] # 8 individual examples\n",
    "# that is, in the context of 18 -> 47 comes next; in the context of 18,47 -> 56 comes next, etc. "
   ]
  },
  {
   "cell_type": "code",
   "execution_count": 44,
   "id": "917cdd66-866b-47e9-a6a4-3d2bf1381fa2",
   "metadata": {},
   "outputs": [
    {
     "name": "stdout",
     "output_type": "stream",
     "text": [
      "when input if tensor([18]) the target: 47\n",
      "when input if tensor([18, 47]) the target: 56\n",
      "when input if tensor([18, 47, 56]) the target: 57\n",
      "when input if tensor([18, 47, 56, 57]) the target: 58\n",
      "when input if tensor([18, 47, 56, 57, 58]) the target: 1\n",
      "when input if tensor([18, 47, 56, 57, 58,  1]) the target: 15\n",
      "when input if tensor([18, 47, 56, 57, 58,  1, 15]) the target: 47\n",
      "when input if tensor([18, 47, 56, 57, 58,  1, 15, 47]) the target: 58\n"
     ]
    }
   ],
   "source": [
    "x = train_data[:block_size] # Inputs of the transformer (first block size characters)\n",
    "# e.g., [18, 47, 56, 57, 58,  1, 15, 47]\n",
    "y = train_data[1:block_size+1] # Next block size characters -- offset by 1 (y are the targets for each position)\n",
    "# e.g., [47, 56, 57, 58,  1, 15, 47, 58]\n",
    "\n",
    "for t in range(block_size):\n",
    "    context = x[:t+1] # All characters in x up to 't', including 't'. \n",
    "    target = y[t]\n",
    "    print(f\"when input if {context} the target: {target}\")\n",
    "    \n",
    "# We train with context between 1 and all the way up to context of block size. \n",
    "# We train it this way not just for computational reasons or efficienty but we want the network \n",
    "# to be used to see anything in between as little as one to block size. \n",
    "# Useful during inference -- we can start sampling generation as little as 1 character of context.\n",
    "# After blocksize, we truncate 'cause the transformer will never receive more than block size inputs when it's predicting the next character."
   ]
  },
  {
   "cell_type": "markdown",
   "id": "4f31f881-3e87-4c16-a751-ae80546f0267",
   "metadata": {
    "tags": []
   },
   "source": [
    "### Dataloader (train the transformer on chunks of data at a time)"
   ]
  },
  {
   "cell_type": "code",
   "execution_count": 55,
   "id": "deb69adb-5b7a-45d6-bb4f-0278798c21fd",
   "metadata": {},
   "outputs": [
    {
     "name": "stdout",
     "output_type": "stream",
     "text": [
      "Inputs: torch.Size([4, 8])\n",
      "tensor([[24, 43, 58,  5, 57,  1, 46, 43],\n",
      "        [44, 53, 56,  1, 58, 46, 39, 58],\n",
      "        [52, 58,  1, 58, 46, 39, 58,  1],\n",
      "        [25, 17, 27, 10,  0, 21,  1, 54]])\n",
      "Targets: torch.Size([4, 8])\n",
      "tensor([[43, 58,  5, 57,  1, 46, 43, 39],\n",
      "        [53, 56,  1, 58, 46, 39, 58,  1],\n",
      "        [58,  1, 58, 46, 39, 58,  1, 46],\n",
      "        [17, 27, 10,  0, 21,  1, 54, 39]])\n",
      "-----------\n",
      "This [4,8] array contain a total of 32 examples, completely independent: \n",
      "that is, in the context of 24 -> 43 comes next; \n",
      "in the context of 24, 43 -> 58 comes next, etc.:\n",
      "when input is [24] the target: 43\n",
      "when input is [24, 43] the target: 58\n",
      "when input is [24, 43, 58] the target: 5\n",
      "when input is [24, 43, 58, 5] the target: 57\n",
      "when input is [24, 43, 58, 5, 57] the target: 1\n",
      "when input is [24, 43, 58, 5, 57, 1] the target: 46\n",
      "when input is [24, 43, 58, 5, 57, 1, 46] the target: 43\n",
      "when input is [24, 43, 58, 5, 57, 1, 46, 43] the target: 39\n",
      "when input is [44] the target: 53\n",
      "when input is [44, 53] the target: 56\n",
      "when input is [44, 53, 56] the target: 1\n",
      "when input is [44, 53, 56, 1] the target: 58\n",
      "when input is [44, 53, 56, 1, 58] the target: 46\n",
      "when input is [44, 53, 56, 1, 58, 46] the target: 39\n",
      "when input is [44, 53, 56, 1, 58, 46, 39] the target: 58\n",
      "when input is [44, 53, 56, 1, 58, 46, 39, 58] the target: 1\n",
      "when input is [52] the target: 58\n",
      "when input is [52, 58] the target: 1\n",
      "when input is [52, 58, 1] the target: 58\n",
      "when input is [52, 58, 1, 58] the target: 46\n",
      "when input is [52, 58, 1, 58, 46] the target: 39\n",
      "when input is [52, 58, 1, 58, 46, 39] the target: 58\n",
      "when input is [52, 58, 1, 58, 46, 39, 58] the target: 1\n",
      "when input is [52, 58, 1, 58, 46, 39, 58, 1] the target: 46\n",
      "when input is [25] the target: 17\n",
      "when input is [25, 17] the target: 27\n",
      "when input is [25, 17, 27] the target: 10\n",
      "when input is [25, 17, 27, 10] the target: 0\n",
      "when input is [25, 17, 27, 10, 0] the target: 21\n",
      "when input is [25, 17, 27, 10, 0, 21] the target: 1\n",
      "when input is [25, 17, 27, 10, 0, 21, 1] the target: 54\n",
      "when input is [25, 17, 27, 10, 0, 21, 1, 54] the target: 39\n"
     ]
    }
   ],
   "source": [
    "# Now, batches of multiple block_size (done for efficiency, parallel processing of data). \n",
    "\n",
    "# We sample random locations of the dataset to pull chunks from  \n",
    "torch.manual_seed(1337) # To reproducte\n",
    "\n",
    "batch_size = 4 # Number of independent sequences to be processed in parallel\n",
    "block_size = 8 # Maximum context length for predictions\n",
    "\n",
    "\n",
    "def get_batch(split):\n",
    "    # Generate a small batch of data of inputs x and targets y\n",
    "    data = train_data if split == 'train' else val_data # Data array\n",
    "    # Generate random positions to grab a chunk out of -- generate batch_size number of random offsets. \n",
    "    ix = torch.randint(len(data) - block_size, (batch_size,)) # 4 numbers (batch_size = 4), randomly generated between 0 and len(data)-block_size\n",
    "    x = torch.stack([data[i:i+block_size] for i in ix]) # First block_size characters starting at 'i'\n",
    "    y = torch.stack([data[i+1:i+block_size+1] for i in ix]) # Offset by one of x\n",
    "    # We get these chunks for every one integer 'i' in ix. Stack 1D tensors as rows: 4x8 tensor. \n",
    "    return x, y\n",
    "\n",
    "# Sample a batch (xb, yb):\n",
    "xb, yb = get_batch('train')\n",
    "print('Inputs:', xb.shape)\n",
    "print(xb) # Each row is an independend chunk of the training set\n",
    "print('Targets:', yb.shape)\n",
    "print(yb)\n",
    "\n",
    "print ('-----------')\n",
    "\n",
    "print('This [4,8] array contain a total of 32 examples, completely independent: \\nthat is, in the context of 24 -> 43 comes next; \\nin the context of 24, 43 -> 58 comes next, etc.:')\n",
    "\n",
    "for b in range(batch_size):\n",
    "    for t in range(block_size):\n",
    "        context = xb[b, :t+1]\n",
    "        target = yb[b,t]\n",
    "        print(f\"when input is {context.tolist()} the target: {target}\")"
   ]
  },
  {
   "cell_type": "markdown",
   "id": "b9d21d58-790e-4853-b716-2444050f8d0d",
   "metadata": {},
   "source": [
    "## Feed"
   ]
  },
  {
   "cell_type": "code",
   "execution_count": 56,
   "id": "21d50614-6b4e-44ab-8225-f102c31a274a",
   "metadata": {},
   "outputs": [
    {
     "name": "stdout",
     "output_type": "stream",
     "text": [
      "tensor([[24, 43, 58,  5, 57,  1, 46, 43],\n",
      "        [44, 53, 56,  1, 58, 46, 39, 58],\n",
      "        [52, 58,  1, 58, 46, 39, 58,  1],\n",
      "        [25, 17, 27, 10,  0, 21,  1, 54]])\n"
     ]
    }
   ],
   "source": [
    "# Input of the transformer: \n",
    "print(xb)"
   ]
  },
  {
   "cell_type": "code",
   "execution_count": 73,
   "id": "d38e19f3-221d-46bc-a730-b5da6cafd1d0",
   "metadata": {
    "tags": []
   },
   "outputs": [
    {
     "name": "stdout",
     "output_type": "stream",
     "text": [
      "torch.Size([32, 65])\n",
      "tensor(4.8786, grad_fn=<NllLossBackward0>)\n"
     ]
    }
   ],
   "source": [
    "# Simplest possible NN (Bigram Language Model):\n",
    "import torch\n",
    "import torch.nn as nn\n",
    "from torch.nn import functional as F\n",
    "torch.manual_seed(1337) # For reproducibility\n",
    "\n",
    "class BigramLanguageModel(nn.Module):\n",
    "    # Subclass of nn.module \n",
    "    # Very simple model, tokens are not talking to each other\n",
    "    \n",
    "    def __init__(self, vocab_size):\n",
    "        super().__init__()\n",
    "        # Each token directly reads off the logitd for the next token from a look-up table\n",
    "        # Create a token embedding table of size (vocab size, vocab size): \n",
    "        self.token_embedding_table = nn.Embedding(vocab_size, vocab_size)\n",
    "        \n",
    "    def forward(self, idx, targets=None):\n",
    "        # inputs and targets are passed to the token embedding table\n",
    "        # e.g., number 24 in xb will plug out the 24th row of the embedding table, number 43 will do the same for 43rd row, etc. \n",
    "        # idx and targets are both (B, T) tensor of integers\n",
    "        # (Batch, Time, Channel) -- (batch_size, block_size, vocab_size) = (4, 8, 64)\n",
    "        logits = self.token_embedding_table(idx) # (B, T, C) -- Scores for the next character of the sequence -- we're predicting based on the identity of a single token\n",
    "        \n",
    "        if targets is None:\n",
    "            loss = None\n",
    "        else:\n",
    "            # Good way to measure the loss or the quality of the predictions is to use the negative log-likelohood (cross-entropy) \n",
    "            # Torch expects the channel to be the 2nd dimension -> (B, C, T), so reshape\n",
    "            B, T, C = logits.shape # (4, 8, 64)\n",
    "            logits = logits.view(B*T, C) # (4x8, 64)\n",
    "            # Targets are (B, T):\n",
    "            targets = targets.view(B*T) # or (-1), size (4x9)\n",
    "            loss = F.cross_entropy(logits, targets)\n",
    "\n",
    "        return logits, loss\n",
    "    \n",
    "    def generate(self, idx, max_new_tokens):\n",
    "        # idx is the current context of some characters in some batch\n",
    "        # idx is (B, T) array -- e.g., (4, 8)\n",
    "        \n",
    "        # Note that this function gets fed with the full idx to predict a single character at a time. \n",
    "        # it is only necessary, for predicting the next character, to know the previous one.\n",
    "        # in line logits[:, -1, :], we're only using the last one instead of the whole history. \n",
    "        # so far, no needed. later history will be used. \n",
    "        \n",
    "        # Generate data from the model\n",
    "        for _ in range(max_new_tokens):\n",
    "            # Get te predictions for the current idx\n",
    "            logits, loss = self(idx)\n",
    "            # Focus only on the last time step\n",
    "            # logits are (B, T, C) --> convert them to (B, C) \n",
    "            # taking the last time-step, as those are the predictions of what comes next.\n",
    "            logits = logits[:, -1, :] # (B, C)\n",
    "            # Apply softmax to convert logits to probabilities\n",
    "            probs = F.softmax(logits, dim=-1) # (B, C)\n",
    "            # Sample from the probability distribution, give 1 sample (integer)\n",
    "            idx_next = torch.multinomial(probs, num_samples=1) # (B, 1), for each of the batch dimension, we get a single prediction of what comes next. \n",
    "            \n",
    "            # Append sampled index to the running sequence: \n",
    "            # whatever is predicted, is concatenated on top of the previous idx along \n",
    "            # the first dimension (time dimension) to get (B, T+1)\n",
    "            idx = torch.cat((idx, idx_next), dim=1) # (B, T+1) e.g., -- (4,9) \n",
    "        return idx\n",
    "    \n",
    "    \n",
    "# vocab_size = len(chars) characters\n",
    "m = BigramLanguageModel(vocab_size)\n",
    "# Passing it the inputs and targets to BLM\n",
    "# Scores for the next character of the sequence\n",
    "logits, loss = m(xb, yb)\n",
    "print(logits.shape)\n",
    "# We have 65 possible vocab elements, we can guess what the loss should be -- negative log-likelihood : -ln(1/65) = 4.17\n",
    "print(loss)"
   ]
  },
  {
   "cell_type": "code",
   "execution_count": 76,
   "id": "d9ba2ba4-8d08-4551-b75f-a50ce6c75237",
   "metadata": {},
   "outputs": [
    {
     "name": "stdout",
     "output_type": "stream",
     "text": [
      "\n",
      "KuBZvrpxZQgC-hlkq,ptKqHoiX-jjeLJ &slERj KUsBOL!mpJO!zLg'wNfqHAMgq'hZCWhu.W.IBcP \n",
      "RFJ&DEs,nw?pxE?xjNH\n"
     ]
    }
   ],
   "source": [
    "idx = torch.zeros((1,1), dtype=torch.long) # (B=1, T=1) dtype int\n",
    "# (m.generate)[0] to umplug \n",
    "print(decode(m.generate(idx, max_new_tokens=100)[0].tolist()))"
   ]
  },
  {
   "cell_type": "markdown",
   "id": "ba6168bb-0ea9-4e35-8ae0-343e507b1e3b",
   "metadata": {},
   "source": [
    "## Train"
   ]
  },
  {
   "cell_type": "code",
   "execution_count": 77,
   "id": "78536eb0-3bb2-4e65-9786-7f6faa1b1aa7",
   "metadata": {},
   "outputs": [],
   "source": [
    "optimizer = torch.optim.AdamW(m.parameters(), lr=1e-3) # takes parameters and updates the gradients"
   ]
  },
  {
   "cell_type": "code",
   "execution_count": 85,
   "id": "07543539-98ee-43b8-bd3d-da40012ddf30",
   "metadata": {},
   "outputs": [
    {
     "name": "stdout",
     "output_type": "stream",
     "text": [
      "2.443098783493042\n"
     ]
    }
   ],
   "source": [
    "batch_size = 32\n",
    "\n",
    "for steps in range(10000):\n",
    "    \n",
    "    # Get a batch of data from the data loader\n",
    "    xb, yb = get_batch('train')\n",
    "    \n",
    "    # Evaluate the loss\n",
    "    logits, loss = m(xb, yb)\n",
    "    optimizer.zero_grad(set_to_none=True) # Zeroing the gradients from the previous step \n",
    "    loss.backward() # get the gradients from all the parameters\n",
    "    optimizer.step() # use the gradients to update \n",
    "    \n",
    "print(loss.item())\n",
    "    "
   ]
  },
  {
   "cell_type": "code",
   "execution_count": 88,
   "id": "a40cd504-3489-4df1-80b6-b3518de83529",
   "metadata": {},
   "outputs": [
    {
     "name": "stdout",
     "output_type": "stream",
     "text": [
      "\n",
      "\n",
      "INo ompe Pe o m P: somistrou, paburoinsee\n",
      "Londer wathes 's, mayousorntekeawhart ghruremin whell y angr hinnds oupre hingo, foune:\n",
      "s hase!\n",
      "NS:\n",
      "Stho lereer atiswouese?\n",
      "\n",
      "\n",
      "He'cindine u'sold ngnfithot pon d te;\n",
      "Whie roomy t'd ING ELABe ofulin blakl ttr fr s fe\n",
      "JUn bowid t s r-jure\n",
      "My avinoursouen te, stht mas t fos.\n",
      "W:\n",
      "Inouim s sely loreny goulavir Rie, ak shas askngef e, nghin housuly ot ont armame.\n",
      "Hel o ppe? mosisigherde w; s tsere cof oubre pl lothes\n",
      "\n",
      "t re ice'Sat thercorjut nthet, t ey t t:\n",
      "\n",
      "BE\n"
     ]
    }
   ],
   "source": [
    "idx = torch.zeros((1,1), dtype=torch.long) # (B=1, T=1) dtype int\n",
    "# (m.generate)[0] to umplug \n",
    "print(decode(m.generate(idx, max_new_tokens=500)[0].tolist()))"
   ]
  },
  {
   "cell_type": "code",
   "execution_count": null,
   "id": "a8e67714-87e2-4223-8f93-ceb697e66c93",
   "metadata": {},
   "outputs": [],
   "source": []
  }
 ],
 "metadata": {
  "kernelspec": {
   "display_name": "nanogpt",
   "language": "python",
   "name": "nanogpt"
  },
  "language_info": {
   "codemirror_mode": {
    "name": "ipython",
    "version": 3
   },
   "file_extension": ".py",
   "mimetype": "text/x-python",
   "name": "python",
   "nbconvert_exporter": "python",
   "pygments_lexer": "ipython3",
   "version": "3.10.14"
  }
 },
 "nbformat": 4,
 "nbformat_minor": 5
}
